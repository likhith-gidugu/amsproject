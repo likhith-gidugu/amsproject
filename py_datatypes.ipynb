{
  "nbformat": 4,
  "nbformat_minor": 0,
  "metadata": {
    "colab": {
      "provenance": [],
      "authorship_tag": "ABX9TyM5QfKVevtHBGRAG37WH13x",
      "include_colab_link": true
    },
    "kernelspec": {
      "name": "python3",
      "display_name": "Python 3"
    },
    "language_info": {
      "name": "python"
    }
  },
  "cells": [
    {
      "cell_type": "markdown",
      "metadata": {
        "id": "view-in-github",
        "colab_type": "text"
      },
      "source": [
        "<a href=\"https://colab.research.google.com/github/likhith-gidugu/amsproject/blob/main/py_datatypes.ipynb\" target=\"_parent\"><img src=\"https://colab.research.google.com/assets/colab-badge.svg\" alt=\"Open In Colab\"/></a>"
      ]
    },
    {
      "cell_type": "code",
      "execution_count": null,
      "metadata": {
        "colab": {
          "base_uri": "https://localhost:8080/"
        },
        "id": "FK7J_huWEqio",
        "outputId": "c1bb938f-825b-4643-dd78-66d915f07b11"
      },
      "outputs": [
        {
          "output_type": "stream",
          "name": "stdout",
          "text": [
            "hello\n",
            "['False', 'None', 'True', 'and', 'as', 'assert', 'async', 'await', 'break', 'class', 'continue', 'def', 'del', 'elif', 'else', 'except', 'finally', 'for', 'from', 'global', 'if', 'import', 'in', 'is', 'lambda', 'nonlocal', 'not', 'or', 'pass', 'raise', 'return', 'try', 'while', 'with', 'yield']\n"
          ]
        }
      ],
      "source": [
        "import keyword\n",
        "print(\"hello\")\n",
        "print(keyword.kwlist)"
      ]
    },
    {
      "cell_type": "code",
      "source": [
        "# 27-01-2024\n",
        "str =\"how are you\"\n",
        "\n",
        "\n",
        "#a=30;\n",
        "b=40.1 #\n",
        "c=2+3j\n",
        "#print(a)\n",
        "#print(b)\n",
        "#print(c)\n",
        "#print(c.real,c.imag)\n",
        "\n",
        "#string literal\n",
        "string='helo guys'\n",
        "string2='''hello guys '''\n",
        "string3=\"z\"\n",
        "#print(string)\n",
        "#print(string2)\n",
        "#print(string3)\n",
        "\n",
        "#literal collections\n",
        "cars=['tata','bmw','benz'] #1.list literals\n",
        "student=['jai',21,123456] #2 (tuple) various datatypes\n",
        "students={'name':'likhith','age':12} #dictionary\n",
        "\n",
        "#print(cars)\n",
        "#print(student)\n",
        "#dict outputs\n",
        "#print(students)\n",
        "#print(students.values())\n",
        "#print(students.keys())\n",
        "\n",
        "\n",
        "##########################\n",
        "\n",
        "a=('highq',\"hql\",\"edutech\")\n",
        "aa=['highq','hql','edutech']\n",
        "b=[\"highq\",\"hql\",\"edutech\"]\n",
        "c={\"highq\",\"hql\",\"edutech\"}\n",
        "cc={\"highq\":1,\"hql\":2,\"hql\":3}\n",
        "d=10.7\n",
        "e=1000\n",
        "f=3+4j\n",
        "x='hello'\n",
        "#print(type(a)  )\n",
        "#print(type(aa))\n",
        "#print(type(b))\n",
        "#print(type(c))\n",
        "#print(type(cc))\n",
        "#print(type(d))\n",
        "#print(type(e))\n",
        "#print(type(f))\n",
        "#print(type(x))\n",
        "######################\n",
        "\n",
        "\n",
        "##########################\n",
        "#int()\n",
        "\n",
        "age=\"21\"\n",
        "#print(\"age is\",int(age))\n",
        "#print(\"age is\",age)\n",
        "#syntax for integer function\n",
        "\n",
        "\n",
        "#print(\"int ('9')\",int('9')); # int() on string function\n",
        "#print(\"int ('9.9')\",int(9.9)) # int() on float valuess function\n",
        "#print(\"int ('9.9')\",int(9))    # int() on int valuess\n",
        "# convert the base using int fun()\n",
        "\n",
        "\n",
        "#convert octal to decimal\n",
        "#print(\"int() on 0o12=\", int(\"0o12\",8))\n",
        "# convert binary to decimal using int()\n",
        "#print(\"int() on 0b11o=\",int(\"0b110\",2))\n",
        "# convert heax to deccimal using int()\n",
        "#print(\"int() on \")\n",
        "\n",
        "#################################################\n",
        "\n",
        "\n",
        "#################################################\n",
        "\n",
        "#int() function for creatingobject\n",
        "class Number:\n",
        "  value=7\n",
        "\n",
        "  def _int_(self):                             #constructor\n",
        "    return self.value\n",
        "\n",
        "\n",
        "data = Number()\n",
        "#print(\"output =\",int(data))\n",
        "\n",
        "#################################################\n",
        "\n",
        "\n",
        "##########################################\n",
        "#sequence data is a collection of simialr or different data types\n",
        "#types dtring tuple list\n",
        "string1='welcome'\n",
        "string2=\"welcome\"\n",
        "string3='''welcome'''\n",
        "string4=''' hello\n",
        "world'''\n",
        "#print(\"type of string1:\",type(string1))\n",
        "#print(\"type of string2:\",type(string2))\n",
        "#print(\"type of string3:\",type(string3))\n",
        "#print(\"type of string4:\",type(string4))"
      ],
      "metadata": {
        "id": "d8ahbtRnEr2O"
      },
      "execution_count": null,
      "outputs": []
    },
    {
      "cell_type": "markdown",
      "source": [
        "round brackets used for methods\n",
        "square brackets used for arrays\n",
        "curly bracekts /paraenthisis are generally used for net scope"
      ],
      "metadata": {
        "id": "BlIt0CzhL4VN"
      }
    }
  ]
}